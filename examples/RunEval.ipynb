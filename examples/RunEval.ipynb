{
 "cells": [
  {
   "cell_type": "markdown",
   "metadata": {},
   "source": [
    "## Load necessary modules"
   ]
  },
  {
   "cell_type": "code",
   "execution_count": null,
   "metadata": {},
   "outputs": [],
   "source": [
    "import os\n",
    "os.chdir('/home/jasper/git/CEIG/keras-retinanet')"
   ]
  },
  {
   "cell_type": "code",
   "execution_count": null,
   "metadata": {},
   "outputs": [],
   "source": [
    "# show images inline\n",
    "%matplotlib inline\n",
    "\n",
    "# automatically reload modules when they have changed\n",
    "%load_ext autoreload\n",
    "%autoreload 2\n",
    "\n",
    "# import keras\n",
    "import keras\n",
    "\n",
    "# import keras_retinanet\n",
    "from keras_retinanet import models\n",
    "from keras_retinanet.utils.image import read_image_bgr, preprocess_image, resize_image\n",
    "from keras_retinanet.utils.visualization import draw_box, draw_caption\n",
    "from keras_retinanet.utils.colors import label_color\n",
    "from keras_retinanet.utils.gpu import setup_gpu\n",
    "\n",
    "# import miscellaneous modules\n",
    "import matplotlib.pyplot as plt\n",
    "import cv2\n",
    "import os\n",
    "import numpy as np\n",
    "import time\n",
    "\n",
    "# use this to change which GPU to use\n",
    "gpu = 0\n",
    "\n",
    "# set the modified tf session as backend in keras\n",
    "setup_gpu(gpu)"
   ]
  },
  {
   "cell_type": "markdown",
   "metadata": {},
   "source": [
    "## Load RetinaNet model"
   ]
  },
  {
   "cell_type": "code",
   "execution_count": null,
   "metadata": {
    "scrolled": false
   },
   "outputs": [],
   "source": [
    "# adjust this to point to your downloaded/trained model\n",
    "# models can be downloaded here: https://github.com/fizyr/keras-retinanet/releases\n",
    "model_path = os.path.join('EarlyFusionDay', 'resnet101_pascal_53.h5')\n",
    "\n",
    "# load retinanet model\n",
    "model = models.load_model(model_path, backbone_name='resnet101')\n",
    "\n",
    "# if the model is not converted to an inference model, use the line below\n",
    "# see: https://github.com/fizyr/keras-retinanet#converting-a-training-model-to-inference-model\n",
    "model = models.convert_model(model)\n",
    "\n",
    "#print(model.summary())\n",
    "\n",
    "# load label to names mapping for visualization purposes\n",
    "labels_to_names = {0: 'plum'}"
   ]
  },
  {
   "cell_type": "code",
   "execution_count": null,
   "metadata": {},
   "outputs": [],
   "source": [
    "# load images\n",
    "print(\"Running tests\")\n",
    "print(\"If running slow, did CUDA get loaded?\")\n",
    "\n",
    "datasetPath = '/home/jasper/Datasets/Day/'\n",
    "testPath = datasetPath + 'ImageSets/Main/test.txt'\n",
    "imgsPath = datasetPath + 'JPEGImages/'\n",
    "depthsPath = datasetPath + 'DepthImages/'\n",
    "\n",
    "visualise = False\n",
    "\n",
    "testFile = open(testPath, 'r')\n",
    "\n",
    "resultPath = os.path.split(model_path)[0]\n",
    "resultPath = os.path.join(resultPath, 'detections.txt')\n",
    "resultFile = open(resultPath,'w')\n",
    "\n",
    "firstStart = time.time()\n",
    "cont = testFile.readlines()\n",
    "for i in range(0, len(cont)):\n",
    "    print(\"detecting image: {}\".format(cont[i].rstrip()))\n",
    "    \n",
    "    imgPath = imgsPath + cont[i].rstrip() + '.jpg'\n",
    "    image = read_image_bgr(imgPath)\n",
    "    depth = depthsPath + cont[i].rstrip() + '.npy'\n",
    "    depth = np.load(depth)\n",
    "    depth = np.expand_dims(depth, axis=2)\n",
    "    rgbd = np.concatenate((image, depth), axis=2)\n",
    "    \n",
    "    print(rgbd.shape)\n",
    "\n",
    "    draw = image.copy()\n",
    "    draw = cv2.cvtColor(draw, cv2.COLOR_BGR2RGB)\n",
    "    \n",
    "    rgbd = preprocess_image(rgbd)\n",
    "    rgbd, scale = resize_image(rgbd)\n",
    "    \n",
    "    start = time.time()\n",
    "    boxes, scores, labels = model.predict_on_batch(np.expand_dims(rgbd, axis=0))\n",
    "    print(\"processing time: \", time.time() - start)\n",
    "\n",
    "    # correct for image scale\n",
    "    boxes /= scale\n",
    "\n",
    "    for box, score, label in zip(boxes[0], scores[0], labels[0]):\n",
    "        if score < 0.01:\n",
    "            break\n",
    "                \n",
    "        bb = np.array(box).astype(int)\n",
    "        dataline = cont[i].rstrip() + ' ' + str(score) + ' ' + str(bb[0]) + ' ' + str(bb[1]) + ' ' + str(bb[2]) + ' ' + str(bb[3]) + '\\n' \n",
    "        resultFile.write(dataline)\n",
    "        #print(dataline)\n",
    "        \n",
    "        \n",
    "        \n",
    "    if(visualise):\n",
    "        # visualize detections\n",
    "        for box, score, label in zip(boxes[0], scores[0], labels[0]):\n",
    "            # scores are sorted so we can break\n",
    "            if score < 0.5:\n",
    "                break\n",
    "\n",
    "            color = label_color(label)\n",
    "\n",
    "            b = box.astype(int)\n",
    "            draw_box(draw, b, color=color)\n",
    "\n",
    "            caption = \"{} {:.3f}\".format(labels_to_names[label], score)\n",
    "            draw_caption(draw, b, caption)\n",
    "\n",
    "        plt.figure(figsize=(15, 15))\n",
    "        plt.axis('off')\n",
    "        plt.imshow(draw)\n",
    "        plt.show()\n",
    "    \n",
    "print(\"DONE~!!\")\n",
    "print(\"Detected on {} images in {} sec\".format(len(cont), time.time() - firstStart))"
   ]
  },
  {
   "cell_type": "code",
   "execution_count": null,
   "metadata": {},
   "outputs": [],
   "source": []
  }
 ],
 "metadata": {
  "kernelspec": {
   "display_name": "venv",
   "language": "python",
   "name": "venv"
  },
  "language_info": {
   "codemirror_mode": {
    "name": "ipython",
    "version": 3
   },
   "file_extension": ".py",
   "mimetype": "text/x-python",
   "name": "python",
   "nbconvert_exporter": "python",
   "pygments_lexer": "ipython3",
   "version": "3.6.9"
  }
 },
 "nbformat": 4,
 "nbformat_minor": 2
}
